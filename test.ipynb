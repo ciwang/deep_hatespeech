{
 "cells": [
  {
   "cell_type": "code",
   "execution_count": 6,
   "metadata": {},
   "outputs": [],
   "source": [
    "import tensorflow as tf\n",
    "import numpy as np"
   ]
  },
  {
   "cell_type": "code",
   "execution_count": 4,
   "metadata": {},
   "outputs": [],
   "source": [
    "# to make this notebook's output stable across runs\n",
    "def reset_graph(seed=42):\n",
    "    tf.reset_default_graph()\n",
    "    tf.set_random_seed(seed)\n",
    "    np.random.seed(seed)"
   ]
  },
  {
   "cell_type": "code",
   "execution_count": 22,
   "metadata": {},
   "outputs": [],
   "source": [
    "n_steps = 2\n",
    "n_inputs = 3\n",
    "n_neurons = 5\n",
    "\n",
    "reset_graph()\n",
    "\n",
    "X = tf.placeholder(tf.float32, [None, n_steps, n_inputs])\n",
    "stacked_rnn = []\n",
    "for _ in range(3):\n",
    "    cell = tf.contrib.rnn.BasicLSTMCell(num_units=n_neurons)\n",
    "    stacked_rnn.append(cell)\n",
    "basic_cell = tf.contrib.rnn.MultiRNNCell(stacked_rnn)"
   ]
  },
  {
   "cell_type": "code",
   "execution_count": 23,
   "metadata": {},
   "outputs": [],
   "source": [
    "seq_length = tf.placeholder(tf.int32, [None])\n",
    "outputs, states = tf.nn.dynamic_rnn(basic_cell, X, dtype=tf.float32,\n",
    "                                    sequence_length=seq_length)"
   ]
  },
  {
   "cell_type": "code",
   "execution_count": 24,
   "metadata": {},
   "outputs": [],
   "source": [
    "init = tf.global_variables_initializer()\n"
   ]
  },
  {
   "cell_type": "code",
   "execution_count": 25,
   "metadata": {},
   "outputs": [],
   "source": [
    "X_batch = np.array([\n",
    "        # step 0     step 1\n",
    "        [[0, 1, 2], [9, 8, 7]], # instance 1\n",
    "        [[3, 4, 5], [0, 0, 0]], # instance 2 (padded with zero vectors)\n",
    "        [[6, 7, 8], [6, 5, 4]], # instance 3\n",
    "        [[9, 0, 1], [3, 2, 1]], # instance 4\n",
    "    ])\n",
    "seq_length_batch = np.array([2, 1, 2, 2])\n"
   ]
  },
  {
   "cell_type": "code",
   "execution_count": 26,
   "metadata": {},
   "outputs": [],
   "source": [
    "with tf.Session() as sess:\n",
    "    init.run()\n",
    "    outputs_val, states_val = sess.run(\n",
    "        [outputs, states], feed_dict={X: X_batch, seq_length: seq_length_batch})"
   ]
  },
  {
   "cell_type": "code",
   "execution_count": 27,
   "metadata": {},
   "outputs": [
    {
     "name": "stdout",
     "output_type": "stream",
     "text": [
      "[[[  1.25183002e-03   7.85215176e-04  -7.12130917e-04   6.25233981e-04\n",
      "     2.13521114e-03]\n",
      "  [  2.63100909e-03   1.66865624e-03  -1.70608389e-03   1.13454205e-03\n",
      "     3.69575364e-03]]\n",
      "\n",
      " [[  5.67893439e-04   6.26185967e-04  -4.20641009e-04   4.27006948e-04\n",
      "     9.59821977e-04]\n",
      "  [  0.00000000e+00   0.00000000e+00   0.00000000e+00   0.00000000e+00\n",
      "     0.00000000e+00]]\n",
      "\n",
      " [[  1.11309979e-04   1.50960070e-04  -1.14275994e-04   6.24607273e-05\n",
      "     2.06646961e-04]\n",
      "  [  1.05183560e-03   1.30199315e-03  -1.59086171e-03   1.95729284e-04\n",
      "     1.86123198e-03]]\n",
      "\n",
      " [[  6.88411063e-03   1.09111157e-03  -1.04594938e-02   4.05705912e-04\n",
      "     7.40695698e-03]\n",
      "  [  1.67262610e-02   3.25796753e-03  -2.04843841e-02   2.33532721e-03\n",
      "     1.47290453e-02]]]\n"
     ]
    }
   ],
   "source": [
    "print(outputs_val)"
   ]
  },
  {
   "cell_type": "code",
   "execution_count": 29,
   "metadata": {},
   "outputs": [
    {
     "name": "stdout",
     "output_type": "stream",
     "text": [
      "LSTMStateTuple(c=array([[ 0.0052539 ,  0.00333791, -0.00342826,  0.00227191,  0.00739299],\n",
      "       [ 0.00113568,  0.00125312, -0.00084319,  0.00085418,  0.0019211 ],\n",
      "       [ 0.00210259,  0.00260814, -0.00319529,  0.00039136,  0.00372777],\n",
      "       [ 0.03304959,  0.00654036, -0.04214095,  0.00474907,  0.02931423]], dtype=float32), h=array([[ 0.00263101,  0.00166866, -0.00170608,  0.00113454,  0.00369575],\n",
      "       [ 0.00056789,  0.00062619, -0.00042064,  0.00042701,  0.00095982],\n",
      "       [ 0.00105184,  0.00130199, -0.00159086,  0.00019573,  0.00186123],\n",
      "       [ 0.01672626,  0.00325797, -0.02048438,  0.00233533,  0.01472905]], dtype=float32))\n"
     ]
    }
   ],
   "source": [
    "print(states_val[-1])\n"
   ]
  },
  {
   "cell_type": "code",
   "execution_count": null,
   "metadata": {},
   "outputs": [],
   "source": []
  }
 ],
 "metadata": {
  "kernelspec": {
   "display_name": "Python 2",
   "language": "python",
   "name": "python2"
  },
  "language_info": {
   "codemirror_mode": {
    "name": "ipython",
    "version": 2
   },
   "file_extension": ".py",
   "mimetype": "text/x-python",
   "name": "python",
   "nbconvert_exporter": "python",
   "pygments_lexer": "ipython2",
   "version": "2.7.13"
  }
 },
 "nbformat": 4,
 "nbformat_minor": 2
}
