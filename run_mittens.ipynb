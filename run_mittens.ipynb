{
 "cells": [
  {
   "cell_type": "code",
   "execution_count": 1,
   "metadata": {},
   "outputs": [],
   "source": [
    "import random\n",
    "from collections import defaultdict\n",
    "import matplotlib.pyplot as plt\n",
    "import numpy as np\n",
    "import pandas as pd\n",
    "import scipy.spatial.distance\n",
    "from scipy.spatial.distance import euclidean\n",
    "from scipy.stats import pearsonr, t\n",
    "from operator import itemgetter\n",
    "\n",
    "from mittens.tf_mittens import Mittens, _log_of_array_ignoring_zeros"
   ]
  },
  {
   "cell_type": "code",
   "execution_count": 2,
   "metadata": {},
   "outputs": [],
   "source": [
    "GLOVE_DIM = 100"
   ]
  },
  {
   "cell_type": "code",
   "execution_count": 16,
   "metadata": {},
   "outputs": [
    {
     "name": "stdout",
     "output_type": "stream",
     "text": [
      "       0      1      2      3      4      5      6      7      8      9      \\\n",
      "0          0      0      0      0      0      0      0      0      0      0   \n",
      "1          0      0      0      0      0      0      0      0      0      0   \n",
      "2          0      0  34003  14606  12723   7134   6091  10829   5090   5221   \n",
      "3          0      0  14606  29803   9786   5436   3845  10493   3707   4480   \n",
      "4          0      0  12723   9786  81256   4311   4607   6114   3973   3271   \n",
      "5          0      0   7134   5436   4311  13997   4238   3325   3522   2541   \n",
      "6          0      0   6091   3845   4607   4238   9361   2433   3008   2018   \n",
      "7          0      0  10829  10493   6114   3325   2433   8768   2185   2334   \n",
      "8          0      0   5090   3707   3973   3522   3008   2185  11603   2577   \n",
      "9          0      0   5221   4480   3271   2541   2018   2334   2577  10688   \n",
      "10         0      0   5394   3519   3066   3240   2602   2184   2107   1705   \n",
      "11         0      0   3926   3026   2572   2506   1858   1801   2245   2214   \n",
      "12         0      0   3272   3214   2232   1812   1444   1428   1664   1574   \n",
      "13         0      0   2854   2211   1641   2116   1229   1229   1733   1797   \n",
      "14         0      0   2283   1747   2047   1163   1470    991   1792    922   \n",
      "15         0      0   2647   1736   1639   1472   1478   1078   1481   1196   \n",
      "16         0      0   1963   3740   1375   1117    623    853    610   1228   \n",
      "17         0      0   1993   1719   2145    619    160   1126   1088    867   \n",
      "18         0      0   2812   2670   2540    861    784   1627    474    814   \n",
      "19         0      0   2250   1794   1477   1398    949   1011   1103   1894   \n",
      "20         0      0   2169   1811   1172   1599    889   1017    732   1246   \n",
      "21         0      0   1947   1452   1675   1547   1109    839   1417    851   \n",
      "22         0      0   1870   1379   1523   1098   1211    800   1241    784   \n",
      "23         0      0   1899   1655   1105   1403    577    886    882   1647   \n",
      "24         0      0   1759   1666   1330   1135    822    779    941   1265   \n",
      "25         0      0   1614   1214   1459    502     96    918    787    599   \n",
      "26         0      0   1723   1423   1453   1216    759    861    979    814   \n",
      "27         0      0   1606   1333   1332    679   1053    715    704    670   \n",
      "28         0      0   1724   1128   1052    783    147    800    653    659   \n",
      "29         0      0   1586   1253    926   1070    575    752    754   1091   \n",
      "...      ...    ...    ...    ...    ...    ...    ...    ...    ...    ...   \n",
      "22201      0      0      0      0      0      1      0      0      0      1   \n",
      "22202      0      0      2      1      1      0      0      1      1      0   \n",
      "22203      0      0      1      0      0      1      0      0      1      0   \n",
      "22204      0      0      1      1      1      1      0      1      0      1   \n",
      "22205      0      0      0      0      0      0      0      0      0      0   \n",
      "22206      0      0      0      0      0      0      0      0      0      0   \n",
      "22207      0      0      0      0      0      0      0      0      0      0   \n",
      "22208      0      0      0      0      0      0      0      0      0      0   \n",
      "22209      0      0      1      1      0      0      0      1      0      0   \n",
      "22210      0      0      0      0      0      0      1      0      1      0   \n",
      "22211      0      0      1      0      0      0      0      0      0      2   \n",
      "22212      0      0      0      1      0      0      0      0      0      2   \n",
      "22213      0      0      1      1      1      0      0      1      0      0   \n",
      "22214      0      0      0      0      0      2      1      0      0      0   \n",
      "22215      0      0      2      0      0      0      0      0      0      0   \n",
      "22216      0      0      0      1      0      1      1      0      0      1   \n",
      "22217      0      0      2      1      0      0      1      1      0      0   \n",
      "22218      0      0      1      2      0      1      0      1      1      0   \n",
      "22219      0      0      0      1      0      1      0      0      1      1   \n",
      "22220      0      0      1      0      0      1      0      0      1      0   \n",
      "22221      0      0      1      0      0      0      0      0      0      2   \n",
      "22222      0      0      0      0      1      1      0      0      0      0   \n",
      "22223      0      0      0      0      0      1      1      0      0      0   \n",
      "22224      0      0      2      1      0      0      1      1      0      0   \n",
      "22225      0      0      1      1      2      0      0      1      0      0   \n",
      "22226      0      0      0      0      0      1      1      0      0      0   \n",
      "22227      0      0      1      1      0      1      0      1      0      1   \n",
      "22228      0      0      1     27      1      0      0      2      0      0   \n",
      "22229      0      0      1      1      3      0      0      1      0      0   \n",
      "22230      0      0      0      0      0      0      0      0      0      2   \n",
      "\n",
      "       ...    22221  22222  22223  22224  22225  22226  22227  22228  22229  \\\n",
      "0      ...        0      0      0      0      0      0      0      0      0   \n",
      "1      ...        0      0      0      0      0      0      0      0      0   \n",
      "2      ...        1      0      0      2      1      0      1      1      1   \n",
      "3      ...        0      0      0      1      1      0      1     27      1   \n",
      "4      ...        0      1      0      0      2      0      0      1      3   \n",
      "5      ...        0      1      1      0      0      1      1      0      0   \n",
      "6      ...        0      0      1      1      0      1      0      0      0   \n",
      "7      ...        0      0      0      1      1      0      1      2      1   \n",
      "8      ...        0      0      0      0      0      0      0      0      0   \n",
      "9      ...        2      0      0      0      0      0      1      0      0   \n",
      "10     ...        0      0      0      0      0      0      0      1      2   \n",
      "11     ...        0      0      0      0      0      0      1      0      0   \n",
      "12     ...        0      0      0      0      0      0      0      0      0   \n",
      "13     ...        0      0      0      0      0      0      0      0      0   \n",
      "14     ...        0      0      0      0      0      0      1      0      0   \n",
      "15     ...        0      0      2      0      0      0      0      0      0   \n",
      "16     ...        0      0      0      0      7      0      0      0      0   \n",
      "17     ...        0      0      0      0      0      0      0      0      0   \n",
      "18     ...        0      0      0      1      1      0      0      0      0   \n",
      "19     ...        1      0      0      0      0      0      0      0      1   \n",
      "20     ...        0      1      1      0      0      0      0      0      0   \n",
      "21     ...        0      0      1      0      0      0      0      1      0   \n",
      "22     ...        0      0      0      0      0      0      1      0      0   \n",
      "23     ...        0      0      0      0      0      0      1      0      0   \n",
      "24     ...        0      0      0      0      0      0      0      0      0   \n",
      "25     ...        0      0      0      0      0      0      0      0      0   \n",
      "26     ...        0      0      0      0      0      0      1      0      0   \n",
      "27     ...        1      0      0      1      0      0      0      0      0   \n",
      "28     ...        0      0      0      0      0      0      0      0      0   \n",
      "29     ...        0      0      0      0      0      0      0      0      0   \n",
      "...    ...      ...    ...    ...    ...    ...    ...    ...    ...    ...   \n",
      "22201  ...        0      0      0      0      0      0      0      0      0   \n",
      "22202  ...        0      0      0      0      0      0      0      0      0   \n",
      "22203  ...        0      0      0      0      0      0      0      0      0   \n",
      "22204  ...        0      0      0      0      0      0      0      0      0   \n",
      "22205  ...        0      0      0      0      0      0      0      0      0   \n",
      "22206  ...        0      0      0      0      0      0      0      0      0   \n",
      "22207  ...        0      0      0      0      0      0      0      0      0   \n",
      "22208  ...        0      0      0      0      0      0      0      0      0   \n",
      "22209  ...        0      0      0      0      0      0      0      0      0   \n",
      "22210  ...        0      0      0      0      0      0      0      0      0   \n",
      "22211  ...        0      0      0      0      0      0      0      0      0   \n",
      "22212  ...        0      0      0      0      0      0      0      0      0   \n",
      "22213  ...        0      0      0      0      0      0      0      0      0   \n",
      "22214  ...        0      0      0      0      0      0      0      0      0   \n",
      "22215  ...        0      0      0      0      0      0      0      0      0   \n",
      "22216  ...        0      0      0      0      0      0      0      0      0   \n",
      "22217  ...        0      0      0      0      0      0      0      0      0   \n",
      "22218  ...        0      0      0      0      0      0      0      0      0   \n",
      "22219  ...        0      0      0      0      0      0      0      0      0   \n",
      "22220  ...        0      0      0      0      0      0      0      0      0   \n",
      "22221  ...        1      0      0      0      0      0      0      0      0   \n",
      "22222  ...        0      1      0      0      0      0      0      0      0   \n",
      "22223  ...        0      0      1      0      0      0      0      0      0   \n",
      "22224  ...        0      0      0      1      0      0      0      0      0   \n",
      "22225  ...        0      0      0      0      1      0      0      0      0   \n",
      "22226  ...        0      0      0      0      0      1      0      0      0   \n",
      "22227  ...        0      0      0      0      0      0      1      0      0   \n",
      "22228  ...        0      0      0      0      0      0      0      1      0   \n",
      "22229  ...        0      0      0      0      0      0      0      0      1   \n",
      "22230  ...        0      0      0      0      0      0      0      0      0   \n",
      "\n",
      "       22230  \n",
      "0          0  \n",
      "1          0  \n",
      "2          0  \n",
      "3          0  \n",
      "4          0  \n",
      "5          0  \n",
      "6          0  \n",
      "7          0  \n",
      "8          0  \n",
      "9          2  \n",
      "10         0  \n",
      "11         0  \n",
      "12         1  \n",
      "13         1  \n",
      "14         0  \n",
      "15         0  \n",
      "16         0  \n",
      "17         0  \n",
      "18         0  \n",
      "19         0  \n",
      "20         0  \n",
      "21         0  \n",
      "22         0  \n",
      "23         2  \n",
      "24         1  \n",
      "25         0  \n",
      "26         0  \n",
      "27         0  \n",
      "28         0  \n",
      "29         0  \n",
      "...      ...  \n",
      "22201      0  \n",
      "22202      0  \n",
      "22203      0  \n",
      "22204      0  \n",
      "22205      0  \n",
      "22206      0  \n",
      "22207      0  \n",
      "22208      0  \n",
      "22209      0  \n",
      "22210      0  \n",
      "22211      0  \n",
      "22212      0  \n",
      "22213      0  \n",
      "22214      0  \n",
      "22215      0  \n",
      "22216      0  \n",
      "22217      0  \n",
      "22218      0  \n",
      "22219      0  \n",
      "22220      0  \n",
      "22221      0  \n",
      "22222      0  \n",
      "22223      0  \n",
      "22224      0  \n",
      "22225      0  \n",
      "22226      0  \n",
      "22227      0  \n",
      "22228      0  \n",
      "22229      0  \n",
      "22230      1  \n",
      "\n",
      "[22231 rows x 22231 columns]\n"
     ]
    }
   ],
   "source": [
    "comatrix_path = 'data/twitter_davidson/comatrix.dat'\n",
    "X = pd.read_csv(comatrix_path, header = None, dtype = int)\n",
    "print X"
   ]
  },
  {
   "cell_type": "code",
   "execution_count": 3,
   "metadata": {},
   "outputs": [],
   "source": [
    "vocab = []\n",
    "with open('data/twitter_davidson/vocab.dat', mode=\"rb\") as f:\n",
    "    vocab.extend(f.readlines())\n",
    "vocab = [line.strip('\\n') for line in vocab]"
   ]
  },
  {
   "cell_type": "code",
   "execution_count": 4,
   "metadata": {},
   "outputs": [],
   "source": [
    "embed_path = 'data/twitter_davidson/embeddings.%dd.dat' % GLOVE_DIM\n",
    "embeddings = pd.read_csv(embed_path, header = None, dtype = np.float64)"
   ]
  },
  {
   "cell_type": "code",
   "execution_count": 5,
   "metadata": {},
   "outputs": [],
   "source": [
    "embeddings = embeddings.transpose()\n",
    "embeddings.columns = vocab"
   ]
  },
  {
   "cell_type": "code",
   "execution_count": 6,
   "metadata": {},
   "outputs": [
    {
     "name": "stdout",
     "output_type": "stream",
     "text": [
      "[0.6300600000000001, 0.65177, 0.25545, 0.018593000000000002, 0.043094, 0.047194, 0.23218000000000003, 0.11613, 0.17371, 0.40487, 0.022524000000000002, -0.076731, -2.2911, 0.094127, 0.43293000000000004, 0.041801, 0.063175, -0.64486, -0.43656999999999996, 0.024114, -0.082989, 0.21686, -0.13462000000000002, -0.22336, 0.39436, -2.1724, -0.39544, 0.16535999999999998, 0.39438, -0.35181999999999997, -0.14995999999999998, 0.10502, -0.45937, 0.27729000000000004, 0.8924, -0.042312999999999996, -0.009345000000000001, 0.5501699999999999, 0.09552100000000001, 0.070504, -1.1781, 0.013722999999999999, 0.17742, 0.74142, 0.17715999999999998, 0.038468, -0.31684, 0.08941, 0.20556999999999997, -0.34328000000000003, -0.64303, -0.878, -0.16293, -0.055925, 0.33898, 0.60664, -0.2774, 0.33626, 0.21603000000000003, -0.11051, 0.0058673, -0.64757, -0.068222, -0.7741399999999999, 0.13910999999999998, -0.15850999999999998, -0.61885, -0.10192000000000001, -0.47, 0.19787000000000002, 0.42175, -0.18458, 0.080581, -0.22545, -0.06512899999999999, -0.15328, 0.087726, -0.18817, -0.08371, 0.21779, 0.9789899999999999, 0.1092, 0.022705, -0.078234, 0.15595, 0.083105, -0.6824, 0.5746899999999999, -0.19942000000000001, 0.50566, -0.18277000000000002, 0.37721, -0.12514, -0.42821000000000004, -0.81075, -0.39326, -0.17386, 0.55096, 0.6470600000000001, -0.6093]\n"
     ]
    }
   ],
   "source": [
    "embedding_dict = embeddings.to_dict('list')\n",
    "print embedding_dict['<user>']"
   ]
  },
  {
   "cell_type": "code",
   "execution_count": null,
   "metadata": {},
   "outputs": [],
   "source": [
    "mittens = Mittens(n=GLOVE_DIM, max_iter=5000, mittens=1)\n",
    "M = mittens.fit(X, vocab=vocab, initial_embedding_dict=embedding_dict)"
   ]
  },
  {
   "cell_type": "code",
   "execution_count": 14,
   "metadata": {},
   "outputs": [],
   "source": [
    "mittens_path = 'data/twitter_davidson/embeddings.mittens1.%dd.dat' % GLOVE_DIM\n",
    "M = pd.read_csv(mittens_path, header = None, quoting = 0).values"
   ]
  },
  {
   "cell_type": "code",
   "execution_count": 10,
   "metadata": {},
   "outputs": [],
   "source": [
    "def cosine(u, v):        \n",
    "    \"\"\"Cosine distance between 1d np.arrays `u` and `v`, which must have \n",
    "    the same dimensionality. Returns a float.\"\"\"\n",
    "    # Use scipy's method:\n",
    "    return scipy.spatial.distance.cosine(u, v)\n",
    "\n",
    "def neighbors(word, mat, rownames, distfunc=cosine, returndist=False):    \n",
    "    \"\"\"Tool for finding the nearest neighbors of `word` in `mat` according \n",
    "    to `distfunc`. The comparisons are between row vectors.\n",
    "    \n",
    "    Parameters\n",
    "    ----------\n",
    "    word : str\n",
    "        The anchor word. Assumed to be in `rownames`.\n",
    "        \n",
    "    mat : np.array\n",
    "        The vector-space model.\n",
    "        \n",
    "    rownames : list of str\n",
    "        The rownames of mat.\n",
    "            \n",
    "    distfunc : function mapping vector pairs to floats (default: `cosine`)\n",
    "        The measure of distance between vectors. Can also be `euclidean`, \n",
    "        `matching`, `jaccard`, as well as any other distance measure  \n",
    "        between 1d vectors.\n",
    "        \n",
    "    Raises\n",
    "    ------\n",
    "    ValueError\n",
    "        If word is not in rownames.\n",
    "    \n",
    "    Returns\n",
    "    -------    \n",
    "    list of tuples\n",
    "        The list is ordered by closeness to `word`. Each member is a pair \n",
    "        (word, distance) where word is a str and distance is a float.\n",
    "    \n",
    "    \"\"\"\n",
    "    if word not in rownames:\n",
    "        raise ValueError('%s is not in this VSM' % word)\n",
    "    w = mat[rownames.index(word)]\n",
    "    dists = [(rownames[i], distfunc(w, mat[i])) for i in range(len(mat))]\n",
    "    sorteddists = sorted(dists, key=itemgetter(1), reverse=False)\n",
    "    if returndist:\n",
    "        return sorteddists\n",
    "    return [item[0] for item in sorteddists]"
   ]
  },
  {
   "cell_type": "code",
   "execution_count": 11,
   "metadata": {},
   "outputs": [],
   "source": [
    "G = embeddings.transpose().values"
   ]
  },
  {
   "cell_type": "code",
   "execution_count": 27,
   "metadata": {},
   "outputs": [
    {
     "name": "stdout",
     "output_type": "stream",
     "text": [
      "[('bitch', -1.4129278413932411e-08), ('fuck', 0.13727204773927515), ('nigga', 0.14032760976063741), ('ass', 0.14142532066032187), ('bitches', 0.14673692525606929)]\n",
      "[('hoe', 5.9242417527194391e-08), ('bitch', 0.16976215836040542), ('dat', 0.21639467291919789), ('chick', 0.25209907057396741), ('ass', 0.25378253085063207)]\n",
      "[('redneck', -9.3922838839688438e-08), ('hillbilly', 0.17283135233412072), ('hick', 0.32069949263477471), ('rednecks', 0.33543274354219055), ('beaner', 0.35272613527234342)]\n"
     ]
    }
   ],
   "source": [
    "print neighbors(\"bitch\", G, vocab, cosine)[:5]\n",
    "print neighbors(\"hoe\", G, vocab, cosine)[:5]\n",
    "print neighbors(\"redneck\", G, vocab, cosine)[:5]"
   ]
  },
  {
   "cell_type": "code",
   "execution_count": 31,
   "metadata": {},
   "outputs": [
    {
     "name": "stdout",
     "output_type": "stream",
     "text": [
      "<type 'numpy.ndarray'>\n",
      "[('bitch', -2.2204460492503131e-16), ('ass', 0.12494736692434094), ('nigga', 0.12582509492100258), ('fuck', 0.12621232610457445), ('shit', 0.14002559766740652)]\n",
      "[('hoe', -2.2204460492503131e-16), ('bitch', 0.1574867569747509), ('dat', 0.1685564922519468), ('chick', 0.2129714796372042), ('nigga', 0.23991521132589055)]\n",
      "[('redneck', 0.0), ('hillbilly', 0.17286828155779077), ('hick', 0.32029168316044743), ('rednecks', 0.33512891701993541), ('beaner', 0.35247726930871182)]\n"
     ]
    }
   ],
   "source": [
    "print neighbors(\"bitch\", G_, vocab, cosine)[:5]\n",
    "print neighbors(\"hoe\", G_, vocab, cosine)[:5]\n",
    "print neighbors(\"redneck\", G_, vocab, cosine)[:5]"
   ]
  },
  {
   "cell_type": "code",
   "execution_count": 32,
   "metadata": {},
   "outputs": [
    {
     "name": "stdout",
     "output_type": "stream",
     "text": [
      "GloVE: [('<user>', 0.0), ('rt', 0.10501733915665235), ('hey', 0.28818721842568296), ('cc', 0.30024118953272783), ('bro', 0.30810150586519924)]\n",
      "Mittens: [('<user>', -9.0452620504777315e-08), ('rt', 0.091155480241602693), ('<repeat>', 0.26170164632990722), ('a', 0.30732869161440635), ('hey', 0.30826986073257645)]\n",
      "GloVE: [('<allcaps>', -2.2204460492503131e-16), ('<hashtag>', 0.26649973052702647), ('<url>', 0.30984813435870917), ('#', 0.34328685805574388), ('n', 0.35690622032526931)]\n",
      "Mittens: [('<allcaps>', -1.9592548250457753e-08), ('<hashtag>', 0.23500529601586739), ('<url>', 0.27685880900865545), ('#', 0.33371711642786306), ('rt', 0.33414618495922355)]\n",
      "GloVE: [('<sym>', -2.2204460492503131e-16), ('no-tv', 0.61755860648283067), ('(@', 0.64420567254571037), ('ebloa', 0.66548182115772203), ('kenfolk', 0.6657745220089053)]\n",
      "Mittens: [('<sym>', 5.0854358057961235e-08), ('no-tv', 0.63506879668086524), ('kenfolk', 0.66257323099046794), ('(@', 0.66422520409372687), ('ebloa', 0.67649159828678906)]\n",
      "GloVE: [('a', -2.2204460492503131e-16), ('one', 0.26912510177017934), ('as', 0.28836142209165694), ('me', 0.28889562644815403), ('no', 0.30285505597989726)]\n",
      "Mittens: [('a', 7.3166595004892088e-10), ('bitch', 0.23729320577569835), ('like', 0.24074834696955416), ('me', 0.25330788684068284), ('no', 0.2640180089389409)]\n",
      "GloVE: [('bitch', -2.2204460492503131e-16), ('ass', 0.12494736692434094), ('nigga', 0.12582509492100258), ('fuck', 0.12621232610457467), ('shit', 0.14002559766740641)]\n",
      "Mittens: [('bitch', -1.4129278413932411e-08), ('fuck', 0.13727204773927515), ('nigga', 0.14032760976063741), ('ass', 0.14142532066032187), ('bitches', 0.14673692525606929)]\n",
      "GloVE: [('rt', -2.2204460492503131e-16), ('<user>', 0.10501733915665235), ('cc', 0.32024899546316976), ('nah', 0.33215939807045958), ('hey', 0.34435732669596786)]\n",
      "Mittens: [('rt', -8.1766321047282986e-08), ('<user>', 0.091155554624566149), ('<repeat>', 0.25513161961950526), ('a', 0.31265940234057776), ('<hashtag>', 0.32979774598594624)]\n",
      "GloVE: [('i', 0.0), ('just', 0.11461921739754977), ('think', 0.14772965135391969), ('know', 0.14963772591065116), ('you', 0.15366379683760967)]\n",
      "Mittens: [('i', -2.9091314690532499e-08), ('just', 0.12205896629347057), ('you', 0.14430708352573329), ('that', 0.16872477620433346), ('like', 0.16894574970112053)]\n",
      "GloVE: [('the', 0.0), ('this', 0.11467648559059396), ('of', 0.11491040154921284), (\"'s\", 0.12092987288009471), ('that', 0.12098927396690917)]\n",
      "Mittens: [('the', 9.4652694127006498e-08), ('that', 0.085958203828269575), ('this', 0.096289389606992404), ('of', 0.099174658362596202), ('it', 0.10005387865583193)]\n",
      "GloVE: [('you', 2.2204460492503131e-16), ('know', 0.077614553286716403), ('if', 0.090788872316930447), (\"'re\", 0.098829441862557155), ('that', 0.10301714438764464)]\n",
      "Mittens: [('you', 6.4647738606815608e-08), ('know', 0.09179145909162989), ('if', 0.093989744307403256), ('that', 0.094295314034761102), ('and', 0.10203488137041261)]\n",
      "GloVE: [('to', 0.0), ('for', 0.16151246842739309), ('will', 0.18514390442399831), ('and', 0.18604475460239656), ('going', 0.18628597675597891)]\n",
      "Mittens: [('to', 6.4586563208735015e-08), ('for', 0.14496401308368423), ('and', 0.164645037253914), ('you', 0.17000920875424363), ('the', 0.17008040167924054)]\n",
      "GloVE: [('<repeat>', -2.2204460492503131e-16), ('<elong>', 0.27056172427379321), ('<sadface>', 0.30461841835785752), ('<smile>', 0.32590303544667187), ('^_^', 0.32933039233485506)]\n",
      "Mittens: [('<repeat>', 1.0396151750580174e-07), ('rt', 0.25513154302214958), ('<user>', 0.26170164632990722), ('<elong>', 0.28637655506713366), ('<url>', 0.29646863513788679)]\n",
      "GloVE: [('and', -2.2204460492503131e-16), ('with', 0.104282100850003), ('that', 0.12002006437998813), ('you', 0.12226959438084806), ('it', 0.1308910099482955)]\n",
      "Mittens: [('and', -9.4142744710978832e-09), ('you', 0.10203488137041261), ('that', 0.10311389165921914), ('with', 0.10340208482261759), ('it', 0.11454902700658531)]\n",
      "GloVE: [('my', -2.2204460492503131e-16), ('your', 0.088006901793968528), ('the', 0.14681614103776464), ('this', 0.14912025779956062), ('it', 0.15160110342141098)]\n",
      "Mittens: [('my', -1.4190011121684165e-07), ('your', 0.080624391454464095), ('the', 0.10397097345262407), ('this', 0.13195254528474432), ('you', 0.13319816031880938)]\n",
      "GloVE: [('that', -2.2204460492503131e-16), ('it', 0.05628281202198937), ('what', 0.063432025242386003), ('know', 0.074499994738555286), ('think', 0.07497439785976201)]\n",
      "Mittens: [('that', -8.9028160399351464e-09), ('it', 0.05635141781623465), ('what', 0.065741404023503258), ('this', 0.07526177559238334), ('know', 0.077846416713510891)]\n",
      "GloVE: [('<hashtag>', 1.1102230246251565e-16), ('#', 0.16587495158097465), ('<allcaps>', 0.26649973052702647), ('<url>', 0.28571041529420393), ('r', 0.30438709451350665)]\n",
      "Mittens: [('<hashtag>', -1.3232319528988512e-07), ('<url>', 0.23380493518526368), ('#', 0.23487579355892418), ('<allcaps>', 0.23500524457967464), ('rt', 0.32979774598594624)]\n",
      "GloVE: [('bitches', 3.3306690738754696e-16), ('hoes', 0.076257846556380238), ('niggas', 0.092290205790019231), ('bitch', 0.14316610008071085), ('yall', 0.15523359776241319)]\n",
      "Mittens: [('bitches', 5.643601064253545e-08), ('hoes', 0.090872720022058262), ('niggas', 0.11322004422136722), ('bitch', 0.14673686627363502), ('shit', 0.19072694805294366)]\n",
      "GloVE: [('<url>', 0.0), ('via', 0.26757128174347466), ('<hashtag>', 0.28571041529420393), ('<allcaps>', 0.30984813435870917), ('>', 0.33970467404814308)]\n",
      "Mittens: [('<url>', 9.1319556694280379e-08), ('<hashtag>', 0.23380493518526368), ('<allcaps>', 0.27685886435946672), ('<repeat>', 0.29646863513788679), ('via', 0.32925067808462005)]\n",
      "GloVE: [('in', 0.0), ('of', 0.197446645710326), ('the', 0.20243654241737707), ('over', 0.20562765514513826), ('is', 0.20615569855107718)]\n",
      "Mittens: [('in', 9.5447971415474342e-08), ('all', 0.17384879849438906), ('is', 0.17452978177087652), ('of', 0.17678042681031747), ('the', 0.18057662359360671)]\n"
     ]
    }
   ],
   "source": [
    "for w in vocab[2:20]:\n",
    "    print \"GloVE:\", neighbors(w, G, vocab, cosine)[:5]\n",
    "    print \"Mittens:\", neighbors(w, M, vocab, cosine)[:5]"
   ]
  },
  {
   "cell_type": "code",
   "execution_count": 19,
   "metadata": {},
   "outputs": [
    {
     "name": "stdout",
     "output_type": "stream",
     "text": [
      "bitch ------\n",
      "GloVE: ['bitch', 'ass', 'nigga', 'fuck', 'shit']\n",
      "Mittens: ['bitch', 'like', 'you', 'a', 'i']\n",
      "pussy ------\n",
      "GloVE: ['pussy', 'dick', 'ass', 'cock', 'booty']\n",
      "Mittens: ['pussy', 'dick', 'sex', 'hoe', 'tits']\n",
      "hoe ------\n",
      "GloVE: ['hoe', 'bitch', 'dat', 'chick', 'nigga']\n",
      "Mittens: ['hoe', 'hoes', 'dat', 'chick', 'pussy']\n",
      "fuck ------\n",
      "GloVE: ['fuck', 'shit', 'hell', 'bitch', 'damn']\n",
      "Mittens: ['fuck', 'hell', 'hate', 'why', 'fucking']\n",
      "nigga ------\n",
      "GloVE: ['nigga', 'bruh', 'niggas', 'aint', 'bitch']\n",
      "Mittens: ['nigga', 'niggas', 'gotta', 'homie', 'lil']\n",
      "trash ------\n",
      "GloVE: ['trash', 'garbage', 'dirty', 'shit', 'nasty']\n",
      "Mittens: ['trash', 'garbage', 'dirty', 'nasty', 'shit']\n",
      "faggot ------\n",
      "GloVE: ['faggot', 'fag', 'asshole', 'nigger', 'cunt']\n",
      "Mittens: ['faggot', 'fag', 'nigger', 'asshole', 'cunt']\n",
      "white ------\n",
      "GloVE: ['white', 'black', 'blue', 'green', 'red']\n",
      "Mittens: ['white', 'black', 'blue', 'yellow', 'green']\n",
      "retarded ------\n",
      "GloVE: ['retarded', 'dumb', 'retarted', 'stupid', 'dumbass']\n",
      "Mittens: ['retarded', 'dumb', 'stupid', 'dumbass', 'annoying']\n",
      "yellow ------\n",
      "GloVE: ['yellow', 'blue', 'purple', 'red', 'pink']\n",
      "Mittens: ['yellow', 'blue', 'purple', 'red', 'white']\n",
      "yankees ------\n",
      "GloVE: ['yankees', 'sox', 'orioles', 'yanks', 'mariners']\n",
      "Mittens: ['yankees', 'sox', 'mlb', 'orioles', 'giants']\n",
      "black ------\n",
      "GloVE: ['black', 'white', 'blue', 'red', 'pink']\n",
      "Mittens: ['black', 'white', 'blue', 'red', 'yellow']\n",
      "monkey ------\n",
      "GloVE: ['monkey', 'cat', 'donkey', 'dog', 'bear']\n",
      "Mittens: ['monkey', 'cat', 'donkey', 'dog', 'bear']\n"
     ]
    }
   ],
   "source": [
    "for w in [\"bitch\", \n",
    "          \"pussy\", \n",
    "          \"hoe\", \n",
    "          \"fuck\", \n",
    "          \"nigga\", \n",
    "          \"trash\", \n",
    "          \"faggot\", \n",
    "          \"white\", \n",
    "          \"retarded\", \n",
    "          \"yellow\", \n",
    "          \"yankees\",\n",
    "          \"black\",\n",
    "          \"monkey\"\n",
    "         ]:\n",
    "    print w, \"------\"\n",
    "    print \"GloVE:\", neighbors(w, G, vocab, cosine, returndist=False)[:5]\n",
    "    print \"Mittens:\", neighbors(w, M, vocab, cosine, returndist=False)[:5]"
   ]
  },
  {
   "cell_type": "code",
   "execution_count": 38,
   "metadata": {},
   "outputs": [
    {
     "name": "stdout",
     "output_type": "stream",
     "text": [
      "colored ------\n",
      "GloVE: ['colored', 'coloured', 'colors', 'yellow', 'purple']\n",
      "Mittens: ['colored', 'coloured', 'colors', 'yellow', 'purple']\n",
      "crazy ------\n",
      "GloVE: ['crazy', 'mad', 'shit', 'really', 'like']\n",
      "Mittens: ['crazy', 'mad', 'insane', 'funny', 'really']\n",
      "women ------\n",
      "GloVE: ['women', 'woman', 'girls', 'men', 'ladies']\n",
      "Mittens: ['women', 'woman', 'girls', 'men', 'ladies']\n",
      "gay ------\n",
      "GloVE: ['gay', 'homosexual', 'fake', 'gays', 'lesbian']\n",
      "Mittens: ['gay', 'homosexual', 'gays', 'fake', 'lesbian']\n",
      "suck ------\n",
      "GloVE: ['suck', 'sucks', 'dick', 'fuck', 'either']\n",
      "Mittens: ['suck', 'sucks', 'dick', 'either', 'balls']\n"
     ]
    }
   ],
   "source": [
    "for w in [\"colored\",\n",
    "          \"crazy\",\n",
    "          \"women\",\n",
    "          \"gay\",\n",
    "          \"suck\"\n",
    "         ]:\n",
    "    print w, \"------\"\n",
    "    print \"GloVE:\", neighbors(w, G_, vocab, cosine, returndist=False)[:5]\n",
    "    print \"Mittens:\", neighbors(w, G, vocab, cosine, returndist=False)[:5]"
   ]
  },
  {
   "cell_type": "code",
   "execution_count": 42,
   "metadata": {},
   "outputs": [],
   "source": [
    "mittens_embed_path = 'data/twitter_davidson/embeddings.mittens.%dd.dat' % GLOVE_DIM\n",
    "pd.DataFrame(G).to_csv(mittens_embed_path, header = False, index = False)"
   ]
  },
  {
   "cell_type": "code",
   "execution_count": null,
   "metadata": {},
   "outputs": [],
   "source": []
  }
 ],
 "metadata": {
  "kernelspec": {
   "display_name": "Python 2",
   "language": "python",
   "name": "python2"
  },
  "language_info": {
   "codemirror_mode": {
    "name": "ipython",
    "version": 2
   },
   "file_extension": ".py",
   "mimetype": "text/x-python",
   "name": "python",
   "nbconvert_exporter": "python",
   "pygments_lexer": "ipython2",
   "version": "2.7.13"
  }
 },
 "nbformat": 4,
 "nbformat_minor": 2
}
