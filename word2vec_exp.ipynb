{
 "cells": [
  {
   "cell_type": "code",
   "execution_count": 7,
   "metadata": {},
   "outputs": [],
   "source": [
    "from sklearn.feature_extraction.text import CountVectorizer\n",
    "\n",
    "from tqdm import tqdm\n",
    "from nltk.stem.porter import *\n",
    "from gensim.models.word2vec import *\n",
    "import pandas as pd"
   ]
  },
  {
   "cell_type": "code",
   "execution_count": 10,
   "metadata": {},
   "outputs": [],
   "source": [
    "stemmer = PorterStemmer()\n",
    "\n",
    "def basic_tokenizer(sentence):\n",
    "    tokens = sentence.strip().split() #basic tokenizer\n",
    "    return [w.rstrip(' ?:!,;.()-_') for w in tokens if w.rstrip(' ?:!,;.()-_')]\n",
    "\n",
    "def stem_tokenizer(sentence):\n",
    "    tokens = basic_tokenizer(sentence)\n",
    "    stemmed_tokens = [stemmer.stem(t) for t in tokens]\n",
    "    return stemmed_tokens"
   ]
  },
  {
   "cell_type": "code",
   "execution_count": 5,
   "metadata": {},
   "outputs": [],
   "source": [
    "train_raw = pd.read_csv( \"data/twitter_davidson/train.x\", header = 0, quoting = 0 )['tweet']"
   ]
  },
  {
   "cell_type": "code",
   "execution_count": 11,
   "metadata": {},
   "outputs": [
    {
     "name": "stderr",
     "output_type": "stream",
     "text": [
      "100%|██████████| 19826/19826 [00:09<00:00, 2175.45it/s]\n"
     ]
    },
    {
     "ename": "NameError",
     "evalue": "name 'embed_dim' is not defined",
     "output_type": "error",
     "traceback": [
      "\u001b[0;31m---------------------------------------------------------------------------\u001b[0m",
      "\u001b[0;31mNameError\u001b[0m                                 Traceback (most recent call last)",
      "\u001b[0;32m<ipython-input-11-5449bec9dc2c>\u001b[0m in \u001b[0;36m<module>\u001b[0;34m()\u001b[0m\n\u001b[1;32m      2\u001b[0m \u001b[0;32mfor\u001b[0m \u001b[0mline\u001b[0m \u001b[0;32min\u001b[0m \u001b[0mtqdm\u001b[0m\u001b[0;34m(\u001b[0m\u001b[0mtrain_raw\u001b[0m\u001b[0;34m)\u001b[0m\u001b[0;34m:\u001b[0m\u001b[0;34m\u001b[0m\u001b[0m\n\u001b[1;32m      3\u001b[0m     \u001b[0msentences\u001b[0m\u001b[0;34m.\u001b[0m\u001b[0mappend\u001b[0m\u001b[0;34m(\u001b[0m\u001b[0mstem_tokenizer\u001b[0m\u001b[0;34m(\u001b[0m\u001b[0mline\u001b[0m\u001b[0;34m)\u001b[0m\u001b[0;34m)\u001b[0m \u001b[0;31m#stem tokenizer\u001b[0m\u001b[0;34m\u001b[0m\u001b[0m\n\u001b[0;32m----> 4\u001b[0;31m \u001b[0mmodel\u001b[0m \u001b[0;34m=\u001b[0m \u001b[0mWord2Vec\u001b[0m\u001b[0;34m(\u001b[0m\u001b[0msentences\u001b[0m\u001b[0;34m,\u001b[0m \u001b[0msize\u001b[0m\u001b[0;34m=\u001b[0m\u001b[0membed_dim\u001b[0m\u001b[0;34m,\u001b[0m \u001b[0mhs\u001b[0m\u001b[0;34m=\u001b[0m\u001b[0;36m1\u001b[0m\u001b[0;34m,\u001b[0m \u001b[0msg\u001b[0m\u001b[0;34m=\u001b[0m\u001b[0;36m1\u001b[0m\u001b[0;34m)\u001b[0m\u001b[0;34m\u001b[0m\u001b[0m\n\u001b[0m",
      "\u001b[0;31mNameError\u001b[0m: name 'embed_dim' is not defined"
     ]
    }
   ],
   "source": [
    "sentences = []\n",
    "for line in tqdm(train_raw):\n",
    "    sentences.append(stem_tokenizer(line)) #stem tokenizer"
   ]
  },
  {
   "cell_type": "code",
   "execution_count": 14,
   "metadata": {},
   "outputs": [],
   "source": [
    "model = Word2Vec(sentences, size=64, hs=1, sg=1)"
   ]
  },
  {
   "cell_type": "code",
   "execution_count": 49,
   "metadata": {},
   "outputs": [
    {
     "data": {
      "text/plain": [
       "[('twat', 0.6844824552536011),\n",
       " (u'whore', 0.6842994689941406),\n",
       " (u'bitchi', 0.6694105267524719),\n",
       " ('wee', 0.6611146330833435),\n",
       " ('fag', 0.6462758779525757),\n",
       " ('faggot', 0.6447587013244629),\n",
       " (u'disgrac', 0.6401003003120422),\n",
       " (u'thotti', 0.6390780210494995),\n",
       " (u\"who'\", 0.6306482553482056),\n",
       " ('fucken', 0.6234325766563416)]"
      ]
     },
     "execution_count": 49,
     "metadata": {},
     "output_type": "execute_result"
    }
   ],
   "source": [
    "model.wv.most_similar(\"cunt\")"
   ]
  },
  {
   "cell_type": "code",
   "execution_count": 62,
   "metadata": {},
   "outputs": [],
   "source": [
    "model2 = Word2Vec(sentences, size=64, hs=1, min_count=1, iter=5, compute_loss=True)"
   ]
  },
  {
   "cell_type": "code",
   "execution_count": 48,
   "metadata": {},
   "outputs": [
    {
     "data": {
      "text/plain": [
       "[('faggot', 0.8346320390701294),\n",
       " ('nigger', 0.8325392603874207),\n",
       " (u'littl', 0.8286762237548828),\n",
       " ('such', 0.803849458694458),\n",
       " ('fag', 0.785466194152832),\n",
       " ('twat', 0.7795403599739075),\n",
       " ('homeboy', 0.7774314880371094),\n",
       " (u'retard', 0.7767220139503479),\n",
       " (u'bitchi', 0.7746690511703491),\n",
       " ('elissa', 0.7725939154624939)]"
      ]
     },
     "execution_count": 48,
     "metadata": {},
     "output_type": "execute_result"
    }
   ],
   "source": [
    "model2.wv.most_similar(\"cunt\")"
   ]
  },
  {
   "cell_type": "code",
   "execution_count": 17,
   "metadata": {},
   "outputs": [],
   "source": [
    "model3 = Word2Vec(sentences, size=64)"
   ]
  },
  {
   "cell_type": "code",
   "execution_count": 38,
   "metadata": {},
   "outputs": [
    {
     "data": {
      "text/plain": [
       "[('perfect', 0.9979958534240723),\n",
       " (u'challeng', 0.997124195098877),\n",
       " (u'appar', 0.9970447421073914),\n",
       " (u'mental', 0.9969489574432373),\n",
       " ('fighter', 0.9968650937080383),\n",
       " ('guinea', 0.9968514442443848),\n",
       " ('murder', 0.9968396425247192),\n",
       " ('whitey', 0.9965416193008423),\n",
       " (u'entir', 0.9962717294692993),\n",
       " ('chucker', 0.9962397217750549)]"
      ]
     },
     "execution_count": 38,
     "metadata": {},
     "output_type": "execute_result"
    }
   ],
   "source": [
    "model3.wv.most_similar(\"queen\")"
   ]
  },
  {
   "cell_type": "code",
   "execution_count": 51,
   "metadata": {},
   "outputs": [],
   "source": [
    "model4 = Word2Vec(sentences, size=64, hs=1)"
   ]
  },
  {
   "cell_type": "code",
   "execution_count": 52,
   "metadata": {},
   "outputs": [
    {
     "data": {
      "text/plain": [
       "[('daughter', 0.8391478061676025),\n",
       " ('faggot', 0.8111145496368408),\n",
       " ('such', 0.7761783003807068),\n",
       " ('nigger', 0.7692285776138306),\n",
       " (u'bitchi', 0.7677119970321655),\n",
       " (u'ignor', 0.7641842365264893),\n",
       " (u'whore', 0.7584431171417236),\n",
       " (u'retard', 0.7460192441940308),\n",
       " ('tool', 0.7412585020065308),\n",
       " (u'anxieti', 0.7371624708175659)]"
      ]
     },
     "execution_count": 52,
     "metadata": {},
     "output_type": "execute_result"
    }
   ],
   "source": [
    "model4.wv.most_similar(\"cunt\")"
   ]
  },
  {
   "cell_type": "code",
   "execution_count": 69,
   "metadata": {},
   "outputs": [],
   "source": [
    "model5 = Word2Vec(sentences, size=64, hs=1, min_count=1, iter=50, compute_loss=True)"
   ]
  },
  {
   "cell_type": "code",
   "execution_count": 71,
   "metadata": {},
   "outputs": [
    {
     "data": {
      "text/plain": [
       "[('faggot', 0.6919171810150146),\n",
       " ('fag', 0.5810970067977905),\n",
       " (u'bitch', 0.5809435844421387),\n",
       " (u'retard', 0.5723118782043457),\n",
       " ('burden', 0.5236926078796387),\n",
       " ('twat', 0.5094074010848999),\n",
       " ('nigger', 0.4835446774959564),\n",
       " ('annoy', 0.4565889537334442),\n",
       " ('queer', 0.4542137384414673),\n",
       " (u'ugli', 0.45189836621284485)]"
      ]
     },
     "execution_count": 71,
     "metadata": {},
     "output_type": "execute_result"
    }
   ],
   "source": [
    "model5.wv.most_similar(\"cunt\")"
   ]
  },
  {
   "cell_type": "code",
   "execution_count": 70,
   "metadata": {},
   "outputs": [
    {
     "data": {
      "text/plain": [
       "40044096.0"
      ]
     },
     "execution_count": 70,
     "metadata": {},
     "output_type": "execute_result"
    }
   ],
   "source": [
    "model5.get_latest_training_loss()"
   ]
  },
  {
   "cell_type": "code",
   "execution_count": 65,
   "metadata": {},
   "outputs": [
    {
     "data": {
      "text/plain": [
       "3995656.5"
      ]
     },
     "execution_count": 65,
     "metadata": {},
     "output_type": "execute_result"
    }
   ],
   "source": [
    "model2.get_latest_training_loss()"
   ]
  },
  {
   "cell_type": "code",
   "execution_count": null,
   "metadata": {},
   "outputs": [],
   "source": []
  }
 ],
 "metadata": {
  "kernelspec": {
   "display_name": "Python 2",
   "language": "python",
   "name": "python2"
  },
  "language_info": {
   "codemirror_mode": {
    "name": "ipython",
    "version": 2
   },
   "file_extension": ".py",
   "mimetype": "text/x-python",
   "name": "python",
   "nbconvert_exporter": "python",
   "pygments_lexer": "ipython2",
   "version": "2.7.13"
  }
 },
 "nbformat": 4,
 "nbformat_minor": 2
}
